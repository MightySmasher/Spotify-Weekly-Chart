{
 "cells": [
  {
   "cell_type": "code",
   "execution_count": null,
   "metadata": {},
   "outputs": [],
   "source": [
    "import pandas as pd\n",
    "import re\n",
    "import os"
   ]
  },
  {
   "cell_type": "code",
   "execution_count": null,
   "metadata": {},
   "outputs": [],
   "source": [
    "folder_path = './samples'\n",
    "files = sorted(os.listdir(folder_path))\n",
    "print(\"count = \"+str(len(files))+\" type = \"+str(type(files)))"
   ]
  },
  {
   "cell_type": "code",
   "execution_count": null,
   "metadata": {},
   "outputs": [],
   "source": [
    "df = pd.DataFrame()\n",
    "for i in range(len(files)):\n",
    "    table = pd.read_csv(\"./samples/\"+files[i])\n",
    "    pattern = r\"[0-9]+-[0-9]+-[0-9]+\"\n",
    "    string = files[i]\n",
    "    report_date = re.search(pattern, string).group()\n",
    "    print(report_date, \"added\")\n",
    "    table['report_date'] = report_date\n",
    "    df = pd.concat([df,table], ignore_index=True)\n",
    "df.to_csv(\"Spotify-Weekly-Chart.csv\", index=False, encoding='utf-8')\n",
    "len(df)"
   ]
  },
  {
   "cell_type": "code",
   "execution_count": null,
   "metadata": {},
   "outputs": [],
   "source": []
  }
 ],
 "metadata": {
  "kernelspec": {
   "display_name": "base",
   "language": "python",
   "name": "python3"
  },
  "language_info": {
   "codemirror_mode": {
    "name": "ipython",
    "version": 3
   },
   "file_extension": ".py",
   "mimetype": "text/x-python",
   "name": "python",
   "nbconvert_exporter": "python",
   "pygments_lexer": "ipython3",
   "version": "3.10.9"
  }
 },
 "nbformat": 4,
 "nbformat_minor": 2
}
